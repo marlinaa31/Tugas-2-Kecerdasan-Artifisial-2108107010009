{
 "cells": [
  {
   "cell_type": "code",
   "execution_count": 57,
   "metadata": {},
   "outputs": [],
   "source": [
    "import tensorflow as tf\n",
    "import os\n",
    "from keras.preprocessing.image import ImageDataGenerator\n",
    "from tensorflow.keras.optimizers import RMSprop,Adam\n",
    "from tensorflow.keras.applications.inception_resnet_v2 import InceptionResNetV2, preprocess_input\n",
    "from tensorflow.keras.layers import Dropout, BatchNormalization\n",
    "from tensorflow.keras.callbacks import EarlyStopping\n",
    "from tensorflow.keras import layers, models\n",
    "from tensorflow.keras.callbacks import TensorBoard\n",
    "import datetime\n",
    "import numpy as np"
   ]
  },
  {
   "cell_type": "code",
   "execution_count": 58,
   "metadata": {},
   "outputs": [],
   "source": [
    "# Create a TensorBoard callback\n",
    "log_dir = \"logs/fit/\" + datetime.datetime.now().strftime(\"%Y%m%d-%H%M%S\")  # Adjust the log directory as needed\n",
    "tensorboard_callback = TensorBoard(log_dir=log_dir, histogram_freq=1)"
   ]
  },
  {
   "cell_type": "code",
   "execution_count": 59,
   "metadata": {},
   "outputs": [
    {
     "name": "stdout",
     "output_type": "stream",
     "text": [
      "Found 2160 images belonging to 3 classes.\n",
      "Found 2160 images belonging to 3 classes.\n"
     ]
    }
   ],
   "source": [
    "TRAINING_DIR = '/SEMESTER5/Tugas2/data/train'\n",
    "train_datagen = ImageDataGenerator(\n",
    "                    rescale=1./255,\n",
    "                    rotation_range=20,\n",
    "                    horizontal_flip=True,\n",
    "                    shear_range = 0.2,\n",
    "                    fill_mode = 'nearest',\n",
    "                    validation_split=0.4)\n",
    "  # Normalize pixel values between 0 and 1\n",
    "\n",
    "# Load training data\n",
    "train_generator = train_datagen.flow_from_directory(\n",
    "    TRAINING_DIR,\n",
    "    target_size=(150, 150),  # Resize images to 150x150\n",
    "    batch_size=35,\n",
    "    class_mode='binary'\n",
    "    )\n",
    "\n",
    "        \n",
    "VALIDATION_DIR = '/SEMESTER5/Tugas2/data/train'\n",
    "validation_datagen = ImageDataGenerator(rescale=1.0/255.0)  # Normalize pixel values between 0 and 1\n",
    "\n",
    "# Load validation data\n",
    "validation_generator = validation_datagen.flow_from_directory(\n",
    "VALIDATION_DIR,\n",
    "target_size=(150, 150),  # Resize images to 150x150\n",
    "batch_size=35,\n",
    "class_mode='binary')"
   ]
  },
  {
   "cell_type": "code",
   "execution_count": 60,
   "metadata": {},
   "outputs": [],
   "source": [
    "model = tf.keras.models.Sequential([\n",
    "\n",
    "    # Convolutional Layers\n",
    "    tf.keras.layers.Conv2D(32, (3,3), activation='relu', \n",
    "                           input_shape=(150, 150, 3)), # 3 = RGB\n",
    "    tf.keras.layers.MaxPooling2D(2, 2), # Pooling Layer\n",
    "    tf.keras.layers.Conv2D(32, (3,3), activation='relu'),\n",
    "    tf.keras.layers.MaxPooling2D(2,2), # Pooling Layer\n",
    "   \n",
    "    # from 2D to 1D (Flatten)\n",
    "    tf.keras.layers.Flatten(),\n",
    "   \n",
    "    # Fully Connected Layers\n",
    "    tf.keras.layers.Dense(128, activation='relu'),\n",
    "\n",
    "    # Output Layer (airplane, car, dan motorbike) Berarti hanya 3 kelas\n",
    "    tf.keras.layers.Dense(8, activation='softmax')\n",
    "    ])"
   ]
  },
  {
   "cell_type": "code",
   "execution_count": 68,
   "metadata": {},
   "outputs": [
    {
     "name": "stdout",
     "output_type": "stream",
     "text": [
      "Model: \"sequential_2\"\n",
      "_________________________________________________________________\n",
      " Layer (type)                Output Shape              Param #   \n",
      "=================================================================\n",
      " conv2d_4 (Conv2D)           (None, 148, 148, 32)      896       \n",
      "                                                                 \n",
      " max_pooling2d_4 (MaxPoolin  (None, 74, 74, 32)        0         \n",
      " g2D)                                                            \n",
      "                                                                 \n",
      " conv2d_5 (Conv2D)           (None, 72, 72, 32)        9248      \n",
      "                                                                 \n",
      " max_pooling2d_5 (MaxPoolin  (None, 36, 36, 32)        0         \n",
      " g2D)                                                            \n",
      "                                                                 \n",
      " flatten_2 (Flatten)         (None, 41472)             0         \n",
      "                                                                 \n",
      " dense_4 (Dense)             (None, 128)               5308544   \n",
      "                                                                 \n",
      " dense_5 (Dense)             (None, 8)                 1032      \n",
      "                                                                 \n",
      "=================================================================\n",
      "Total params: 5319720 (20.29 MB)\n",
      "Trainable params: 5319720 (20.29 MB)\n",
      "Non-trainable params: 0 (0.00 Byte)\n",
      "_________________________________________________________________\n",
      "Jumlah Hidden Layers: 5\n",
      "Total number of weights: 5319720\n"
     ]
    }
   ],
   "source": [
    "# Menampilkan ringkasan struktur model\n",
    "model.summary()\n",
    "\n",
    "# Mendapatkan jumlah hidden layers\n",
    "hidden_layers_count = len(model.layers) - 2  # Mengurangkan input dan output layers\n",
    "\n",
    "# Menampilkan jumlah hidden layers\n",
    "print(\"Jumlah Hidden Layers:\", hidden_layers_count)\n",
    "\n",
    "# # Count the total number of hidden nodes\n",
    "# total_hidden_nodes = 0\n",
    "# for layer in model.layers:\n",
    "#     if type(layer) == tf.keras.layers.Dense:\n",
    "#         total_hidden_nodes += layer.units\n",
    "# print(\"Total number of hidden nodes:\", total_hidden_nodes)\n",
    "\n",
    "# Count the total number of weights\n",
    "total_weights = 0\n",
    "for layer in model.layers:\n",
    "    total_weights += layer.count_params()\n",
    "\n",
    "print(\"Total number of weights:\", total_weights)"
   ]
  },
  {
   "cell_type": "code",
   "execution_count": 18,
   "metadata": {},
   "outputs": [
    {
     "name": "stdout",
     "output_type": "stream",
     "text": [
      "Epoch 1/10\n",
      "62/62 - 38s - loss: 0.7459 - accuracy: 0.7421 - val_loss: 0.1132 - val_accuracy: 0.9616 - 38s/epoch - 617ms/step\n",
      "Epoch 2/10\n",
      "62/62 - 35s - loss: 0.1434 - accuracy: 0.9477 - val_loss: 0.0689 - val_accuracy: 0.9745 - 35s/epoch - 571ms/step\n",
      "Epoch 3/10\n",
      "62/62 - 33s - loss: 0.1180 - accuracy: 0.9574 - val_loss: 0.0588 - val_accuracy: 0.9815 - 33s/epoch - 536ms/step\n",
      "Epoch 4/10\n",
      "62/62 - 32s - loss: 0.0744 - accuracy: 0.9759 - val_loss: 0.0443 - val_accuracy: 0.9884 - 32s/epoch - 514ms/step\n",
      "Epoch 5/10\n",
      "62/62 - 34s - loss: 0.0645 - accuracy: 0.9782 - val_loss: 0.0437 - val_accuracy: 0.9861 - 34s/epoch - 544ms/step\n",
      "Epoch 6/10\n",
      "62/62 - 35s - loss: 0.0621 - accuracy: 0.9787 - val_loss: 0.0238 - val_accuracy: 0.9931 - 35s/epoch - 557ms/step\n",
      "Epoch 7/10\n",
      "62/62 - 34s - loss: 0.0487 - accuracy: 0.9847 - val_loss: 0.0500 - val_accuracy: 0.9806 - 34s/epoch - 554ms/step\n",
      "Epoch 8/10\n",
      "62/62 - 35s - loss: 0.0412 - accuracy: 0.9847 - val_loss: 0.0248 - val_accuracy: 0.9917 - 35s/epoch - 562ms/step\n",
      "Epoch 9/10\n",
      "62/62 - 35s - loss: 0.0363 - accuracy: 0.9898 - val_loss: 0.0829 - val_accuracy: 0.9681 - 35s/epoch - 561ms/step\n",
      "Epoch 10/10\n",
      "62/62 - 35s - loss: 0.0423 - accuracy: 0.9861 - val_loss: 0.0414 - val_accuracy: 0.9866 - 35s/epoch - 559ms/step\n"
     ]
    }
   ],
   "source": [
    "# Compile a Model\n",
    "model.compile(\n",
    "    loss='sparse_categorical_crossentropy',\n",
    "    optimizer=Adam(),\n",
    "    metrics=['accuracy']\n",
    "    )   \n",
    "\n",
    "# Train the model\n",
    "history = model.fit(\n",
    "    train_generator,\n",
    "    epochs=10,\n",
    "    verbose=2,\n",
    "    validation_data=validation_generator,\n",
    "    callbacks=[tensorboard_callback]\n",
    "    )"
   ]
  },
  {
   "cell_type": "code",
   "execution_count": 19,
   "metadata": {},
   "outputs": [
    {
     "name": "stderr",
     "output_type": "stream",
     "text": [
      "c:\\Users\\MARLINA\\AppData\\Local\\Programs\\Python\\Python311\\Lib\\site-packages\\keras\\src\\engine\\training.py:3103: UserWarning: You are saving your model as an HDF5 file via `model.save()`. This file format is considered legacy. We recommend using instead the native Keras format, e.g. `model.save('my_model.keras')`.\n",
      "  saving_api.save_model(\n"
     ]
    }
   ],
   "source": [
    "# Save the model to a file\n",
    "model.save('model_vehicle.h5')"
   ]
  },
  {
   "cell_type": "code",
   "execution_count": 20,
   "metadata": {},
   "outputs": [],
   "source": [
    "# Load the saved model\n",
    "load_model = tf.keras.models.load_model('model_vehicle.h5')"
   ]
  },
  {
   "cell_type": "code",
   "execution_count": 21,
   "metadata": {},
   "outputs": [
    {
     "name": "stdout",
     "output_type": "stream",
     "text": [
      "62/62 [==============================] - 7s 106ms/step - loss: 0.0414 - accuracy: 0.9866\n",
      "Test accuracy: 0.9865740537643433\n"
     ]
    }
   ],
   "source": [
    "\n",
    "# Evaluate the loaded model with test data\n",
    "test_loss, test_acc = load_model.evaluate(validation_generator)\n",
    "print(f'Test accuracy: {test_acc}')"
   ]
  },
  {
   "cell_type": "code",
   "execution_count": 23,
   "metadata": {},
   "outputs": [
    {
     "data": {
      "image/png": "[encoded data removed]",
      "text/plain": [
       "<Figure size 640x480 with 1 Axes>"
      ]
     },
     "metadata": {},
     "output_type": "display_data"
    }
   ],
   "source": [
    "import matplotlib.pyplot as plt\n",
    "\n",
    "# Retrieve a list of list results on training and test data sets for each training epoch\n",
    "acc = history.history['accuracy']\n",
    "val_acc = history.history['val_accuracy']\n",
    "\n",
    "# Plot training and validation accuracy per epoch\n",
    "plt.plot(acc, label='Training Accuracy')\n",
    "plt.plot(val_acc, label='Validation Accuracy')\n",
    "plt.title('Training and Validation Accuracy')\n",
    "plt.xlabel('Epoch')\n",
    "plt.ylabel('Accuracy')\n",
    "plt.legend(loc='upper left')\n",
    "\n",
    "# Specify the directory and filename for saving the plot\n",
    "save_dir = '/SEMESTER5/Tugas2'  # Change to your desired directory\n",
    "save_filename = 'train_test_plot_vehicle.png'  # Change to your desired filename\n",
    "\n",
    "# Save the plot to the specified directory and filename\n",
    "plt.savefig(os.path.join(save_dir, save_filename))\n",
    "\n",
    "# Display the plot (optional)\n",
    "plt.show()\n"
   ]
  },
  {
   "cell_type": "code",
   "execution_count": 25,
   "metadata": {},
   "outputs": [
    {
     "name": "stdout",
     "output_type": "stream",
     "text": [
      "1/1 [==============================] - 0s 84ms/step\n",
      "The image is predicted as a car with confidence: 100.00%.\n"
     ]
    }
   ],
   "source": [
    "from keras.preprocessing import image\n",
    "from keras.models import load_model\n",
    "import numpy as np\n",
    "\n",
    "# Load your trained model (ensure the path is correct)\n",
    "model_path = '/SEMESTER5/Tugas2/model_vehicle.h5'\n",
    "loaded_model = load_model(model_path)\n",
    "\n",
    "# Define class labels\n",
    "class_labels = {0: 'airplane', 1: 'car', 2: 'motorcycle'}\n",
    "\n",
    "def predict_image_class(image_path, model):\n",
    "    img = image.load_img(image_path, target_size=(150, 150))\n",
    "    x = image.img_to_array(img)\n",
    "    x = np.expand_dims(x, axis=0)\n",
    "    classes = model.predict(x)\n",
    "    predicted_class = np.argmax(classes)\n",
    "    return class_labels[predicted_class], classes[0][predicted_class]\n",
    "\n",
    "def upload_and_predict():\n",
    "    image_path = input(\"Enter the file path of the image: \")\n",
    "    predicted_class, confidence = predict_image_class(image_path, loaded_model)\n",
    "    print(f\"The image is predicted as a {predicted_class} with confidence: {confidence:.2%}.\")\n",
    "\n",
    "# Perform the image upload and prediction\n",
    "upload_and_predict()\n"
   ]
  }
 ],
 "metadata": {
  "kernelspec": {
   "display_name": "Python 3",
   "language": "python",
   "name": "python3"
  },
  "language_info": {
   "codemirror_mode": {
    "name": "ipython",
    "version": 3
   },
   "file_extension": ".py",
   "mimetype": "text/x-python",
   "name": "python",
   "nbconvert_exporter": "python",
   "pygments_lexer": "ipython3",
   "version": "3.11.4"
  }
 },
 "nbformat": 4,
 "nbformat_minor": 2
}
